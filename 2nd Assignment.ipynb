{
 "cells": [
  {
   "cell_type": "markdown",
   "id": "04d2c891-eb82-48b3-a19f-31abe2ee244e",
   "metadata": {},
   "source": [
    "#### 1. What are data structures, and why are they important ?\n",
    "\n",
    "Ans: Data structures are a way to represent or store data. They are important because they provide various efficient ways to access or store data.\n"
   ]
  },
  {
   "cell_type": "code",
   "execution_count": 2,
   "id": "589623dd-7b1d-442d-af12-7331655808b3",
   "metadata": {},
   "outputs": [
    {
     "name": "stdout",
     "output_type": "stream",
     "text": [
      "names: ['navya', 'bhagya', 'teja']\n",
      "['divya', 'bhagya', 'teja']\n",
      "personalities: ('good', 'bad', 'worst')\n"
     ]
    },
    {
     "ename": "TypeError",
     "evalue": "'tuple' object does not support item assignment",
     "output_type": "error",
     "traceback": [
      "\u001b[1;31m---------------------------------------------------------------------------\u001b[0m",
      "\u001b[1;31mTypeError\u001b[0m                                 Traceback (most recent call last)",
      "Cell \u001b[1;32mIn[2], line 9\u001b[0m\n\u001b[0;32m      7\u001b[0m personalities \u001b[38;5;241m=\u001b[39m (\u001b[38;5;124m\"\u001b[39m\u001b[38;5;124mgood\u001b[39m\u001b[38;5;124m\"\u001b[39m, \u001b[38;5;124m\"\u001b[39m\u001b[38;5;124mbad\u001b[39m\u001b[38;5;124m\"\u001b[39m, \u001b[38;5;124m\"\u001b[39m\u001b[38;5;124mworst\u001b[39m\u001b[38;5;124m\"\u001b[39m)\n\u001b[0;32m      8\u001b[0m \u001b[38;5;28mprint\u001b[39m(\u001b[38;5;124m\"\u001b[39m\u001b[38;5;124mpersonalities:\u001b[39m\u001b[38;5;124m\"\u001b[39m, personalities)\n\u001b[1;32m----> 9\u001b[0m personalities[\u001b[38;5;241m1\u001b[39m] \u001b[38;5;241m=\u001b[39m \u001b[38;5;124m\"\u001b[39m\u001b[38;5;124minnocent\u001b[39m\u001b[38;5;124m\"\u001b[39m\n\u001b[0;32m     10\u001b[0m \u001b[38;5;28mprint\u001b[39m(personalities)\n",
      "\u001b[1;31mTypeError\u001b[0m: 'tuple' object does not support item assignment"
     ]
    }
   ],
   "source": [
    "# 2. Explain the difference between mutable and immutable data types with examples ?\n",
    "\n",
    "#Ans: Mutable data types allow modification of data after initialising them, while immutable data types dont.\n",
    "names = [\"navya\", \"bhagya\", \"teja\"]\n",
    "print(\"names:\", names)\n",
    "names[0] = \"divya\"\n",
    "print(names)\n",
    "personalities = (\"good\", \"bad\", \"worst\")\n",
    "print(\"personalities:\", personalities)\n",
    "personalities[1] = \"innocent\"\n",
    "print(personalities)"
   ]
  },
  {
   "cell_type": "markdown",
   "id": "a68feb70-4987-4271-a154-8514a9cd2087",
   "metadata": {},
   "source": [
    "#### 3. What are the main differences between lists and tuples in Python ?\n",
    "\n",
    "Ans: Lists are mutable while tuples are immutable.\n",
    "     Lists are defined using [], while tuples are defined using ().\n",
    "     Tuples are usually faster than lists.\n",
    "\n",
    "#### 4. Describe how dictionaries store data ?\n",
    "\n",
    "Ans: Dictionaries store data in a key value pair.\n",
    "\n",
    "#### 5. Why might you use a set instead of a list in Python ?\n",
    "\n",
    "Ans: We use set instead of list, when you need a sequence of unique values.\n",
    "\n",
    "#### 6. What is a string in Python, and how is it different from a list ?\n",
    "\n",
    "Ans: String is a sequence of characters while list is a sequence of any data type.\n",
    "\n",
    "#### 7. How do tuples ensure data integrity in Python ?\n",
    "\n",
    "Ans: Tuples dont allow modification,thereby maintaining data integrity.\n",
    "\n",
    "#### 8. What is a hash table, and how does it relate to dictionaries in Python ?\n",
    "\n",
    "Ans: Hash table contains a hashing fuction which is applied on the given key to get the address of where the value is stored this allows for a quicker       access of data. Dictoinaries in python are built upon hash tables.\n",
    "\n",
    "#### 9. Can lists contain different data types in Python ?\n",
    "\n",
    "Ans: Yes.\n",
    "\n",
    "#### 10. Explain why strings are immutable in Python ?\n",
    "\n",
    "Ans: Strings are immutable in python to maintain predictability and to avoid bugs due to theie modification.\n",
    "\n",
    "#### 11. What advantages do dictionaries offer over lists for certain tasks ?\n",
    "\n",
    "Ans: Dictionaries allow us to store key value pair and provide faster access to data.\n",
    "\n",
    "#### 12. Describe a scenario where using a tuple would be preferable over a list ?\n",
    "\n",
    "Ans: When we know the sequence of data wont change over time.\n",
    "    For example: tuple of countries is less likely to change.\n",
    "\n",
    "#### 13. How do sets handle duplicate values in Python ?\n",
    "\n",
    "Ans: They ignore the addition of duplicate values.\n",
    "\n",
    "#### 14. How does the “in” keyword work differently for lists and dictionaries ?\n",
    "\n",
    "Ans: In list it checks if the value is present whereas in dictionaries it checks if the key is present.\n",
    "\n",
    "#### 15. Can you modify the elements of a tuple? Explain why or why not ?\n",
    "\n",
    "Ans: We cant not modify the elements of a tuple because they are immutable. \n",
    "\n",
    "#### 16. What is a nested dictionary, and give an example of its use case ?\n",
    "\n",
    "Ans: Nested dictionary is where a value contains another dictionary, \n",
    "     For example: a dictionary of employees where employee name is a key and a dictionary of their details is the value.\n",
    "\n",
    "#### 17. Describe the time complexity of accessing elements in a dictionary ?\n",
    "\n",
    "Ans: The time complexity of accessing elements in a dictionary is constant time, O(1).\n",
    "\n",
    "#### 18. In what situations are lists preferred over dictionaries ?\n",
    "\n",
    "Ans: When we dont have a need for keyvalue pairs.\n",
    "\n",
    "#### 19.  Why are dictionaries considered unordered, and how does that affect data retrieval ?\n",
    "\n",
    "Ans: Dictionaries dont maintain order of insertion however they provide instant access using keys to retrive the data.\n",
    "\n",
    "#### 20. Explain the difference between a list and a dictionary in terms of data retrieval.\n",
    "\n",
    "Ans.List allows the data retrival through indices. Dictionaries provide instant access using keys to retrive the data."
   ]
  },
  {
   "cell_type": "code",
   "execution_count": 4,
   "id": "5d57581e-d7dc-4dde-852d-f72383e4cd73",
   "metadata": {},
   "outputs": [
    {
     "name": "stdout",
     "output_type": "stream",
     "text": [
      "Navya\n"
     ]
    }
   ],
   "source": [
    "# 1. Write a code to create a string with your name and print it ?\n",
    "\n",
    "name = \"Navya\"\n",
    "print(name)"
   ]
  },
  {
   "cell_type": "code",
   "execution_count": 5,
   "id": "5984a888-dc0c-484c-98c7-f726521d8bea",
   "metadata": {},
   "outputs": [
    {
     "data": {
      "text/plain": [
       "11"
      ]
     },
     "execution_count": 5,
     "metadata": {},
     "output_type": "execute_result"
    }
   ],
   "source": [
    "# 2. Write a code to find the length of the string \"Hello World\" ?\n",
    "\n",
    "len(\"Hello World\")"
   ]
  },
  {
   "cell_type": "code",
   "execution_count": 6,
   "id": "03fa9fa0-9797-40cf-bdda-3977be6f4dec",
   "metadata": {},
   "outputs": [
    {
     "name": "stdout",
     "output_type": "stream",
     "text": [
      "Pyt\n"
     ]
    }
   ],
   "source": [
    "# 3. Write a code to slice the first 3 characters from the string \"Python Programming\" ?\n",
    "\n",
    "a = \"Python Programming\"\n",
    "print(a[0:3])"
   ]
  },
  {
   "cell_type": "code",
   "execution_count": 9,
   "id": "31491d26-dfdb-4842-9b5c-7fd22fff1f4b",
   "metadata": {},
   "outputs": [
    {
     "name": "stdout",
     "output_type": "stream",
     "text": [
      "HELLO\n"
     ]
    }
   ],
   "source": [
    "# 4. Write a code to convert the string \"hello\" to uppercase ?\n",
    "\n",
    "a = \"hello\"\n",
    "print(a.upper())"
   ]
  },
  {
   "cell_type": "code",
   "execution_count": 10,
   "id": "b14981cc-5f31-43bc-8d6c-15a33dda7ad1",
   "metadata": {},
   "outputs": [
    {
     "name": "stdout",
     "output_type": "stream",
     "text": [
      "i like orange\n"
     ]
    }
   ],
   "source": [
    "# 5. Write a code to replace the word \"apple\" with \"orange\" in the string \"I like apple\" ?\n",
    "\n",
    "a = \"i like apple\"\n",
    "a = a.replace(\"apple\", \"orange\") \n",
    "print(a)"
   ]
  },
  {
   "cell_type": "code",
   "execution_count": 12,
   "id": "d4f03711-05f3-4b5c-98a6-4286a454e506",
   "metadata": {},
   "outputs": [
    {
     "name": "stdout",
     "output_type": "stream",
     "text": [
      "[1, 2, 3, 4, 5]\n"
     ]
    }
   ],
   "source": [
    "# 6. Write a code to create a list with numbers 1 to 5 and print it ?\n",
    "\n",
    "a = [1, 2, 3, 4, 5]\n",
    "print(a)"
   ]
  },
  {
   "cell_type": "code",
   "execution_count": 13,
   "id": "4ed54540-f9ce-4933-9db1-36f0fa9253d0",
   "metadata": {},
   "outputs": [
    {
     "name": "stdout",
     "output_type": "stream",
     "text": [
      "[1, 2, 3, 4, 10]\n"
     ]
    }
   ],
   "source": [
    "# 7.  Write a code to append the number 10 to the list [1, 2, 3, 4] ?\n",
    "\n",
    "a = [1, 2, 3, 4]\n",
    "a.append(10)\n",
    "print(a)\n",
    "\n"
   ]
  },
  {
   "cell_type": "code",
   "execution_count": 14,
   "id": "a6cbc1da-8b02-4a07-86f6-bc556b8ebe2a",
   "metadata": {},
   "outputs": [
    {
     "name": "stdout",
     "output_type": "stream",
     "text": [
      "[1, 2, 4, 5]\n"
     ]
    }
   ],
   "source": [
    "# 8. Write a code to remove the number 3 from the list [1, 2, 3, 4, 5] ?\n",
    "\n",
    "a = [1, 2, 3, 4, 5]\n",
    "a.remove(3)\n",
    "print(a)"
   ]
  },
  {
   "cell_type": "code",
   "execution_count": 15,
   "id": "a0c8e9ad-bf50-43cb-a9ff-2ed362c5eefa",
   "metadata": {},
   "outputs": [
    {
     "name": "stdout",
     "output_type": "stream",
     "text": [
      "b\n"
     ]
    }
   ],
   "source": [
    "# 9. Write a code to access the second element in the list ['a', 'b', 'c', 'd'] ?\n",
    "\n",
    "a = ['a', 'b', 'c', 'd']\n",
    "print(a[1])"
   ]
  },
  {
   "cell_type": "code",
   "execution_count": 16,
   "id": "331ab05f-d8ed-4700-9d28-da37a61523ad",
   "metadata": {},
   "outputs": [
    {
     "name": "stdout",
     "output_type": "stream",
     "text": [
      "[50, 40, 30, 20, 10]\n"
     ]
    }
   ],
   "source": [
    "# 10. Write a code to reverse the list [10, 20, 30, 40, 50]. ?\n",
    "\n",
    "a = [10, 20, 30, 40, 50]\n",
    "a.reverse()\n",
    "print(a)"
   ]
  },
  {
   "cell_type": "code",
   "execution_count": 17,
   "id": "64586eff-e05a-4398-a407-80e3c6b45c45",
   "metadata": {},
   "outputs": [
    {
     "name": "stdout",
     "output_type": "stream",
     "text": [
      "(10, 20, 30)\n"
     ]
    }
   ],
   "source": [
    "# 11. Write a code to create a tuple with the elements 10, 20, 30 and print it.\n",
    "\n",
    "numbers = (10, 20, 30)\n",
    "print(numbers)"
   ]
  },
  {
   "cell_type": "code",
   "execution_count": 18,
   "id": "92afe050-5172-4943-846b-a8df09a33eb3",
   "metadata": {},
   "outputs": [
    {
     "name": "stdout",
     "output_type": "stream",
     "text": [
      "apple\n"
     ]
    }
   ],
   "source": [
    "# 12. Write a code to access the first element of the tuple ('apple', 'banana', 'cherry'). ?\n",
    "\n",
    "fruits = ('apple', 'banana', 'cherry')\n",
    "print(fruits[0])\n",
    "\n"
   ]
  },
  {
   "cell_type": "code",
   "execution_count": 19,
   "id": "3e7057fe-c56a-4bee-9e30-1aa50f0d159e",
   "metadata": {},
   "outputs": [
    {
     "name": "stdout",
     "output_type": "stream",
     "text": [
      "3\n"
     ]
    }
   ],
   "source": [
    "# 13. Write a code to count how many times the number 2 appears in the tuple (1, 2, 3, 2, 4, 2). ?\n",
    "\n",
    "t = (1, 2, 3, 2, 4, 2)\n",
    "count = 0\n",
    "\n",
    "for i in t:\n",
    "    if i == 2:\n",
    "        count = count + 1\n",
    "\n",
    "print(count)\n"
   ]
  },
  {
   "cell_type": "code",
   "execution_count": 20,
   "id": "0173cde0-d1bd-40ab-ad70-2d56728bcf14",
   "metadata": {},
   "outputs": [
    {
     "name": "stdout",
     "output_type": "stream",
     "text": [
      "1\n"
     ]
    }
   ],
   "source": [
    "# 14.  Write a code to find the index of the element \"cat\" in the tuple ('dog', 'cat', 'rabbit') ?\n",
    "\n",
    "a =  ('dog', 'cat', 'rabbit')\n",
    "for i in range(0,3):\n",
    "    if a[i] == \"cat\":\n",
    "        print(i)\n",
    "\n",
    "\n",
    "\n"
   ]
  },
  {
   "cell_type": "code",
   "execution_count": 22,
   "id": "d95ccc86-c876-41bb-9221-d163fb316d5b",
   "metadata": {},
   "outputs": [
    {
     "name": "stdout",
     "output_type": "stream",
     "text": [
      "True\n"
     ]
    }
   ],
   "source": [
    "# 15. Write a code to check if the element \"banana\" is in the tuple ('apple', 'orange', 'banana'). ?\n",
    "\n",
    "fruits = ('apple', 'orange', 'banana')\n",
    "print(\"banana\" in fruits)"
   ]
  },
  {
   "cell_type": "code",
   "execution_count": 23,
   "id": "914032ea-fbe3-46ab-b2d1-99a270b525c5",
   "metadata": {},
   "outputs": [
    {
     "name": "stdout",
     "output_type": "stream",
     "text": [
      "{1, 2, 3, 4, 5}\n"
     ]
    }
   ],
   "source": [
    "# 16. Write a code to create a set with the elements 1, 2, 3, 4, 5 and print it.\n",
    "\n",
    "numbers = {1, 2, 3, 4, 5}\n",
    "print(numbers)\n"
   ]
  },
  {
   "cell_type": "code",
   "execution_count": 24,
   "id": "8135edaf-9d89-4a0a-a360-6a5179dd95d1",
   "metadata": {},
   "outputs": [
    {
     "name": "stdout",
     "output_type": "stream",
     "text": [
      "{1, 2, 3, 4, 6}\n"
     ]
    }
   ],
   "source": [
    "# 17. Write a code to add the element 6 to the set {1, 2, 3, 4}.\n",
    "\n",
    "a = {1, 2, 3, 4}\n",
    "a.add(6)\n",
    "print(a)"
   ]
  },
  {
   "cell_type": "code",
   "execution_count": 25,
   "id": "a679efd2-4fc2-44f6-a637-ee113a42f885",
   "metadata": {},
   "outputs": [
    {
     "name": "stdout",
     "output_type": "stream",
     "text": [
      "(10, 20, 30)\n"
     ]
    }
   ],
   "source": [
    "# 18. Write a code to create a tuple with the elements 10, 20, 30 and print it.?\n",
    "\n",
    "numbers = (10, 20, 30)\n",
    "print(numbers)"
   ]
  },
  {
   "cell_type": "code",
   "execution_count": 26,
   "id": "868034f7-7f99-4de6-87af-7aba205946cf",
   "metadata": {},
   "outputs": [
    {
     "name": "stdout",
     "output_type": "stream",
     "text": [
      "apple\n"
     ]
    }
   ],
   "source": [
    "# 19. Write a code to access the first element of the tuple ('apple', 'banana', 'cherry').\n",
    "\n",
    "fruits = ('apple', 'banana', 'cherry')\n",
    "print(fruits[0])\n"
   ]
  },
  {
   "cell_type": "code",
   "execution_count": 27,
   "id": "03a2acca-b156-4d2b-9f8a-909408d672b9",
   "metadata": {},
   "outputs": [
    {
     "name": "stdout",
     "output_type": "stream",
     "text": [
      "3\n"
     ]
    }
   ],
   "source": [
    "# 20. Write a code to count how many times the number 2 appears in the tuple (1, 2, 3, 2, 4, 2). ?\n",
    "\n",
    "t = (1, 2, 3, 2, 4, 2)\n",
    "count = 0\n",
    "\n",
    "for i in t:\n",
    "    if i == 2:\n",
    "        count = count + 1\n",
    "\n",
    "print(count)\n"
   ]
  },
  {
   "cell_type": "code",
   "execution_count": 28,
   "id": "1c470dff-b1fc-442b-9e2f-37fe50d058d3",
   "metadata": {},
   "outputs": [
    {
     "name": "stdout",
     "output_type": "stream",
     "text": [
      "1\n"
     ]
    }
   ],
   "source": [
    "# 21.  Write a code to find the index of the element \"cat\" in the tuple ('dog', 'cat', 'rabbit') ?\n",
    "\n",
    "a =  ('dog', 'cat', 'rabbit')\n",
    "for i in range(0,3):\n",
    "    if a[i] == \"cat\":\n",
    "        print(i)\n"
   ]
  },
  {
   "cell_type": "code",
   "execution_count": 29,
   "id": "6206a646-0637-4cc2-abdf-1363c88b65b5",
   "metadata": {},
   "outputs": [
    {
     "name": "stdout",
     "output_type": "stream",
     "text": [
      "True\n"
     ]
    }
   ],
   "source": [
    "# 22. Write a code to check if the element \"banana\" is in the tuple ('apple', 'orange', 'banana'). ?\n",
    "\n",
    "fruits = ('apple', 'orange', 'banana')\n",
    "print(\"banana\" in fruits)"
   ]
  },
  {
   "cell_type": "code",
   "execution_count": 30,
   "id": "ced3372f-6bc6-4f23-8183-b656788724ed",
   "metadata": {},
   "outputs": [
    {
     "name": "stdout",
     "output_type": "stream",
     "text": [
      "{1, 2, 3, 4, 5}\n"
     ]
    }
   ],
   "source": [
    "# 23. Write a code to create a set with the elements 1, 2, 3, 4, 5 and print it.\n",
    "\n",
    "numbers = {1, 2, 3, 4, 5}\n",
    "print(numbers)\n"
   ]
  },
  {
   "cell_type": "code",
   "execution_count": 31,
   "id": "e3d973a3-f7f2-4945-96e2-3a5bcd9d1457",
   "metadata": {},
   "outputs": [
    {
     "name": "stdout",
     "output_type": "stream",
     "text": [
      "{1, 2, 3, 4, 6}\n"
     ]
    }
   ],
   "source": [
    "# 17. Write a code to add the element 6 to the set {1, 2, 3, 4}.\n",
    "\n",
    "a = {1, 2, 3, 4}\n",
    "a.add(6)\n",
    "print(a)"
   ]
  },
  {
   "cell_type": "code",
   "execution_count": null,
   "id": "65979920-087f-4b89-b7ce-ec55d4f58603",
   "metadata": {},
   "outputs": [],
   "source": []
  }
 ],
 "metadata": {
  "kernelspec": {
   "display_name": "Python 3 (ipykernel)",
   "language": "python",
   "name": "python3"
  },
  "language_info": {
   "codemirror_mode": {
    "name": "ipython",
    "version": 3
   },
   "file_extension": ".py",
   "mimetype": "text/x-python",
   "name": "python",
   "nbconvert_exporter": "python",
   "pygments_lexer": "ipython3",
   "version": "3.12.7"
  }
 },
 "nbformat": 4,
 "nbformat_minor": 5
}
